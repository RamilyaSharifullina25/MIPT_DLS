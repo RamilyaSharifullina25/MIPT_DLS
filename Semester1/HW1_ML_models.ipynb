{
 "cells": [
  {
   "cell_type": "markdown",
   "metadata": {
    "id": "TK7oX5qdEEYr"
   },
   "source": [
    "<p style=\"align: center;\"><img align=center src=\"https://s8.hostingkartinok.com/uploads/images/2018/08/308b49fcfbc619d629fe4604bceb67ac.jpg\" width=500 height=450/></p>\n",
    "\n",
    "<h3 style=\"text-align: center;\"><b>Школа глубокого обучения ФПМИ МФТИ</b></h3>\n",
    "\n",
    "<h3 style=\"text-align: center;\"><b>Домашнее задание. Продвинутый поток. Весна 2021</b></h3>\n",
    "\n",
    "Это домашнее задание будет посвящено полноценному решению задачи машинного обучения."
   ]
  },
  {
   "cell_type": "markdown",
   "metadata": {
    "id": "zlB-owfaEEYs"
   },
   "source": [
    "Есть две части этого домашнего задания: \n",
    "* Сделать полноценный отчет о вашей работе: как вы обработали данные, какие модели попробовали и какие результаты получились (максимум 10 баллов). За каждую выполненную часть будет начислено определенное количество баллов.\n",
    "* Лучшее решение отправить в соревнование на [kaggle](https://www.kaggle.com/c/advanced-dls-spring-2021/) (максимум 5 баллов). За прохождение определенного порогов будут начисляться баллы.\n",
    "\n",
    "\n",
    "**Обе части будут проверяться в формате peer-review. Т.е. вашу посылку на степик будут проверять несколько других студентов и аггрегация их оценок будет выставлена. В то же время вам тоже нужно будет проверить несколько других учеников.**\n",
    "\n",
    "**Пожалуйста, делайте свою работу чистой и понятной, чтобы облегчить проверку. Если у вас будут проблемы с решением или хочется совета, то пишите в наш чат в телеграме или в лс @runfme. Если вы захотите проаппелировать оценку, то пипшите в лс @runfme.**\n",
    "\n",
    "**Во всех пунктах указания это минимальный набор вещей, которые стоит сделать. Если вы можете сделать какой-то шаг лучше или добавить что-то свое - дерзайте!**"
   ]
  },
  {
   "cell_type": "markdown",
   "metadata": {
    "id": "Tu_JvqcBEN8Y"
   },
   "source": [
    "# Как проверять?\n",
    "\n",
    "Ставьте полный балл, если выполнены все рекомендации или сделано что-то более интересное и сложное. За каждый отсустствующий пункт из рекомендация снижайте 1 балл."
   ]
  },
  {
   "cell_type": "markdown",
   "metadata": {
    "id": "ninJ63mJEEYt"
   },
   "source": [
    "# Метрика\n",
    "\n",
    "Перед решением любой задачи важно понимать, как будет оцениваться ваше решение. В данном случае мы используем стандартную для задачи классификации метрику ROC-AUC. Ее можно вычислить используя только предсказанные вероятности и истинные классы без конкретного порога классификации + она раотает даже если классы в данных сильно несбалансированны (примеров одного класса в десятки раз больше примеров длугого). Именно поэтому она очень удобна для соревнований.\n",
    "\n",
    "Посчитать ее легко:\n"
   ]
  },
  {
   "cell_type": "code",
   "execution_count": 2,
   "metadata": {
    "colab": {
     "base_uri": "https://localhost:8080/"
    },
    "id": "SQIrka7yEEYu",
    "outputId": "424d6363-acf0-4662-c1fa-60f9ecd701d2"
   },
   "outputs": [
    {
     "data": {
      "text/plain": [
       "0.8333333333333333"
      ]
     },
     "execution_count": 2,
     "metadata": {},
     "output_type": "execute_result"
    }
   ],
   "source": [
    "from sklearn.metrics import roc_auc_score\n",
    "\n",
    "y_true = [\n",
    "    0,\n",
    "    1,\n",
    "    1,\n",
    "    0,\n",
    "    1\n",
    "]\n",
    "\n",
    "y_predictions = [\n",
    "    0.1,\n",
    "    0.9,\n",
    "    0.4,\n",
    "    0.6,\n",
    "    0.61\n",
    "]\n",
    "\n",
    "roc_auc_score(y_true, y_predictions)"
   ]
  },
  {
   "cell_type": "markdown",
   "metadata": {
    "id": "IrDNNkNTEEYz"
   },
   "source": [
    "# Первая часть. Исследование"
   ]
  },
  {
   "cell_type": "code",
   "execution_count": 3,
   "metadata": {
    "id": "lzLqEeZKEEYz"
   },
   "outputs": [],
   "source": [
    "import pandas as pd\n",
    "import numpy as np\n",
    "from matplotlib import pyplot as plt\n",
    "\n",
    "import warnings\n",
    "warnings.filterwarnings(\"ignore\")"
   ]
  },
  {
   "cell_type": "markdown",
   "metadata": {
    "id": "LOlxdURSEEY3"
   },
   "source": [
    "## Загрузка данных (2 балла)\n",
    "\n",
    "1) Посмотрите на случайные строчки. \n",
    "\n",
    "2) Посмотрите, есть ли в датасете незаполненные значения (nan'ы) с помощью data.isna() или data.info() и, если нужно, замените их на что-то. Будет хорошо, если вы построите табличку с количеством nan в каждой колонке."
   ]
  },
  {
   "cell_type": "code",
   "execution_count": 4,
   "metadata": {
    "colab": {
     "base_uri": "https://localhost:8080/"
    },
    "id": "wIGTHJS3efM7",
    "outputId": "55503367-86e0-4601-d6de-2a8100b1ba0c"
   },
   "outputs": [
    {
     "name": "stdout",
     "output_type": "stream",
     "text": [
      "Mounted at /content/drive\n"
     ]
    }
   ],
   "source": [
    "from google.colab import drive\n",
    "drive.mount('/content/drive')"
   ]
  },
  {
   "cell_type": "code",
   "execution_count": 5,
   "metadata": {
    "id": "pw-Brue9EEY3"
   },
   "outputs": [],
   "source": [
    "data = pd.read_csv('/content/drive/MyDrive/Deep_learning_school/Part8 - HW/14. Домашнее задание. Решение ML-задачи и kaggle/train.csv')"
   ]
  },
  {
   "cell_type": "code",
   "execution_count": 6,
   "metadata": {
    "id": "KgnkkF5bEEY9"
   },
   "outputs": [],
   "source": [
    "# Для вашего удобства списки с именами разных колонок\n",
    "\n",
    "# Числовые признаки\n",
    "num_cols = [\n",
    "    'ClientPeriod',\n",
    "    'MonthlySpending',\n",
    "    'TotalSpent'\n",
    "]\n",
    "\n",
    "# Категориальные признаки\n",
    "cat_cols = [\n",
    "    'Sex',\n",
    "    'IsSeniorCitizen',\n",
    "    'HasPartner',\n",
    "    'HasChild',\n",
    "    'HasPhoneService',\n",
    "    'HasMultiplePhoneNumbers',\n",
    "    'HasInternetService',\n",
    "    'HasOnlineSecurityService',\n",
    "    'HasOnlineBackup',\n",
    "    'HasDeviceProtection',\n",
    "    'HasTechSupportAccess',\n",
    "    'HasOnlineTV',\n",
    "    'HasMovieSubscription',\n",
    "    'HasContractPhone',\n",
    "    'IsBillingPaperless',\n",
    "    'PaymentMethod'\n",
    "]\n",
    "\n",
    "feature_cols = num_cols + cat_cols\n",
    "target_col = 'Churn'"
   ]
  },
  {
   "cell_type": "code",
   "execution_count": 7,
   "metadata": {
    "colab": {
     "base_uri": "https://localhost:8080/",
     "height": 277
    },
    "id": "tHC6gWabEEZA",
    "outputId": "da72f63a-0f5f-4db5-cacd-da31af9dbe13"
   },
   "outputs": [
    {
     "data": {
      "text/html": [
       "<div>\n",
       "<style scoped>\n",
       "    .dataframe tbody tr th:only-of-type {\n",
       "        vertical-align: middle;\n",
       "    }\n",
       "\n",
       "    .dataframe tbody tr th {\n",
       "        vertical-align: top;\n",
       "    }\n",
       "\n",
       "    .dataframe thead th {\n",
       "        text-align: right;\n",
       "    }\n",
       "</style>\n",
       "<table border=\"1\" class=\"dataframe\">\n",
       "  <thead>\n",
       "    <tr style=\"text-align: right;\">\n",
       "      <th></th>\n",
       "      <th>ClientPeriod</th>\n",
       "      <th>MonthlySpending</th>\n",
       "      <th>TotalSpent</th>\n",
       "      <th>Sex</th>\n",
       "      <th>IsSeniorCitizen</th>\n",
       "      <th>HasPartner</th>\n",
       "      <th>HasChild</th>\n",
       "      <th>HasPhoneService</th>\n",
       "      <th>HasMultiplePhoneNumbers</th>\n",
       "      <th>HasInternetService</th>\n",
       "      <th>HasOnlineSecurityService</th>\n",
       "      <th>HasOnlineBackup</th>\n",
       "      <th>HasDeviceProtection</th>\n",
       "      <th>HasTechSupportAccess</th>\n",
       "      <th>HasOnlineTV</th>\n",
       "      <th>HasMovieSubscription</th>\n",
       "      <th>HasContractPhone</th>\n",
       "      <th>IsBillingPaperless</th>\n",
       "      <th>PaymentMethod</th>\n",
       "      <th>Churn</th>\n",
       "    </tr>\n",
       "  </thead>\n",
       "  <tbody>\n",
       "    <tr>\n",
       "      <th>0</th>\n",
       "      <td>55</td>\n",
       "      <td>19.50</td>\n",
       "      <td>1026.35</td>\n",
       "      <td>Male</td>\n",
       "      <td>0</td>\n",
       "      <td>Yes</td>\n",
       "      <td>Yes</td>\n",
       "      <td>Yes</td>\n",
       "      <td>No</td>\n",
       "      <td>No</td>\n",
       "      <td>No internet service</td>\n",
       "      <td>No internet service</td>\n",
       "      <td>No internet service</td>\n",
       "      <td>No internet service</td>\n",
       "      <td>No internet service</td>\n",
       "      <td>No internet service</td>\n",
       "      <td>One year</td>\n",
       "      <td>No</td>\n",
       "      <td>Mailed check</td>\n",
       "      <td>0</td>\n",
       "    </tr>\n",
       "    <tr>\n",
       "      <th>1</th>\n",
       "      <td>72</td>\n",
       "      <td>25.85</td>\n",
       "      <td>1872.2</td>\n",
       "      <td>Male</td>\n",
       "      <td>0</td>\n",
       "      <td>Yes</td>\n",
       "      <td>No</td>\n",
       "      <td>Yes</td>\n",
       "      <td>Yes</td>\n",
       "      <td>No</td>\n",
       "      <td>No internet service</td>\n",
       "      <td>No internet service</td>\n",
       "      <td>No internet service</td>\n",
       "      <td>No internet service</td>\n",
       "      <td>No internet service</td>\n",
       "      <td>No internet service</td>\n",
       "      <td>Two year</td>\n",
       "      <td>No</td>\n",
       "      <td>Credit card (automatic)</td>\n",
       "      <td>0</td>\n",
       "    </tr>\n",
       "    <tr>\n",
       "      <th>2</th>\n",
       "      <td>1</td>\n",
       "      <td>75.90</td>\n",
       "      <td>75.9</td>\n",
       "      <td>Male</td>\n",
       "      <td>0</td>\n",
       "      <td>No</td>\n",
       "      <td>No</td>\n",
       "      <td>Yes</td>\n",
       "      <td>No</td>\n",
       "      <td>Fiber optic</td>\n",
       "      <td>No</td>\n",
       "      <td>No</td>\n",
       "      <td>No</td>\n",
       "      <td>Yes</td>\n",
       "      <td>No</td>\n",
       "      <td>No</td>\n",
       "      <td>Month-to-month</td>\n",
       "      <td>Yes</td>\n",
       "      <td>Electronic check</td>\n",
       "      <td>1</td>\n",
       "    </tr>\n",
       "    <tr>\n",
       "      <th>3</th>\n",
       "      <td>32</td>\n",
       "      <td>79.30</td>\n",
       "      <td>2570</td>\n",
       "      <td>Female</td>\n",
       "      <td>1</td>\n",
       "      <td>Yes</td>\n",
       "      <td>No</td>\n",
       "      <td>Yes</td>\n",
       "      <td>Yes</td>\n",
       "      <td>Fiber optic</td>\n",
       "      <td>No</td>\n",
       "      <td>No</td>\n",
       "      <td>Yes</td>\n",
       "      <td>No</td>\n",
       "      <td>No</td>\n",
       "      <td>No</td>\n",
       "      <td>Month-to-month</td>\n",
       "      <td>No</td>\n",
       "      <td>Mailed check</td>\n",
       "      <td>0</td>\n",
       "    </tr>\n",
       "    <tr>\n",
       "      <th>4</th>\n",
       "      <td>60</td>\n",
       "      <td>115.25</td>\n",
       "      <td>6758.45</td>\n",
       "      <td>Female</td>\n",
       "      <td>0</td>\n",
       "      <td>Yes</td>\n",
       "      <td>Yes</td>\n",
       "      <td>Yes</td>\n",
       "      <td>Yes</td>\n",
       "      <td>Fiber optic</td>\n",
       "      <td>Yes</td>\n",
       "      <td>Yes</td>\n",
       "      <td>Yes</td>\n",
       "      <td>Yes</td>\n",
       "      <td>Yes</td>\n",
       "      <td>Yes</td>\n",
       "      <td>Two year</td>\n",
       "      <td>No</td>\n",
       "      <td>Credit card (automatic)</td>\n",
       "      <td>0</td>\n",
       "    </tr>\n",
       "  </tbody>\n",
       "</table>\n",
       "</div>"
      ],
      "text/plain": [
       "   ClientPeriod  MonthlySpending  ...            PaymentMethod Churn\n",
       "0            55            19.50  ...             Mailed check     0\n",
       "1            72            25.85  ...  Credit card (automatic)     0\n",
       "2             1            75.90  ...         Electronic check     1\n",
       "3            32            79.30  ...             Mailed check     0\n",
       "4            60           115.25  ...  Credit card (automatic)     0\n",
       "\n",
       "[5 rows x 20 columns]"
      ]
     },
     "execution_count": 7,
     "metadata": {},
     "output_type": "execute_result"
    }
   ],
   "source": [
    "data.head()"
   ]
  },
  {
   "cell_type": "code",
   "execution_count": 8,
   "metadata": {
    "colab": {
     "base_uri": "https://localhost:8080/"
    },
    "id": "i3uJSf_QfZaD",
    "outputId": "c0ea0a34-30d6-47a3-e92f-f802fbcf7b78"
   },
   "outputs": [
    {
     "name": "stdout",
     "output_type": "stream",
     "text": [
      "<class 'pandas.core.frame.DataFrame'>\n",
      "RangeIndex: 5282 entries, 0 to 5281\n",
      "Data columns (total 20 columns):\n",
      " #   Column                    Non-Null Count  Dtype  \n",
      "---  ------                    --------------  -----  \n",
      " 0   ClientPeriod              5282 non-null   int64  \n",
      " 1   MonthlySpending           5282 non-null   float64\n",
      " 2   TotalSpent                5282 non-null   object \n",
      " 3   Sex                       5282 non-null   object \n",
      " 4   IsSeniorCitizen           5282 non-null   int64  \n",
      " 5   HasPartner                5282 non-null   object \n",
      " 6   HasChild                  5282 non-null   object \n",
      " 7   HasPhoneService           5282 non-null   object \n",
      " 8   HasMultiplePhoneNumbers   5282 non-null   object \n",
      " 9   HasInternetService        5282 non-null   object \n",
      " 10  HasOnlineSecurityService  5282 non-null   object \n",
      " 11  HasOnlineBackup           5282 non-null   object \n",
      " 12  HasDeviceProtection       5282 non-null   object \n",
      " 13  HasTechSupportAccess      5282 non-null   object \n",
      " 14  HasOnlineTV               5282 non-null   object \n",
      " 15  HasMovieSubscription      5282 non-null   object \n",
      " 16  HasContractPhone          5282 non-null   object \n",
      " 17  IsBillingPaperless        5282 non-null   object \n",
      " 18  PaymentMethod             5282 non-null   object \n",
      " 19  Churn                     5282 non-null   int64  \n",
      "dtypes: float64(1), int64(3), object(16)\n",
      "memory usage: 825.4+ KB\n"
     ]
    }
   ],
   "source": [
    "# Посмотрите, есть ли в датасете незаполненные значения (nan'ы)\n",
    "data.info()"
   ]
  },
  {
   "cell_type": "code",
   "execution_count": 9,
   "metadata": {
    "colab": {
     "base_uri": "https://localhost:8080/"
    },
    "id": "VF7Fo8mrfY5J",
    "outputId": "63288a0e-ce53-45cf-e1a4-6e4cba510765"
   },
   "outputs": [
    {
     "data": {
      "text/plain": [
       "ClientPeriod                0\n",
       "MonthlySpending             0\n",
       "TotalSpent                  0\n",
       "Sex                         0\n",
       "IsSeniorCitizen             0\n",
       "HasPartner                  0\n",
       "HasChild                    0\n",
       "HasPhoneService             0\n",
       "HasMultiplePhoneNumbers     0\n",
       "HasInternetService          0\n",
       "HasOnlineSecurityService    0\n",
       "HasOnlineBackup             0\n",
       "HasDeviceProtection         0\n",
       "HasTechSupportAccess        0\n",
       "HasOnlineTV                 0\n",
       "HasMovieSubscription        0\n",
       "HasContractPhone            0\n",
       "IsBillingPaperless          0\n",
       "PaymentMethod               0\n",
       "Churn                       0\n",
       "dtype: int64"
      ]
     },
     "execution_count": 9,
     "metadata": {},
     "output_type": "execute_result"
    }
   ],
   "source": [
    "# количеством nan в каждой колонке\n",
    "data.isna().sum()"
   ]
  },
  {
   "cell_type": "markdown",
   "metadata": {
    "id": "dK370bPCEEZD"
   },
   "source": [
    "## Анализ данных (3 балла)\n",
    "\n",
    "1) Для численных призанков постройте гистограмму (*plt.hist(...)*) или boxplot (*plt.boxplot(...)*). Для категориальных посчитайте количество каждого значения для каждого признака. Для каждой колонки надо сделать *data.value_counts()* и построить bar диаграммы *plt.bar(...)* или круговые диаграммы *plt.pie(...)* (хорошо, елси вы сможете это сделать на одном гарфике с помощью *plt.subplots(...)*). \n",
    "\n",
    "2) Посмотрите на распределение целевой переменной и скажите, являются ли классы несбалансированными.\n",
    "\n",
    "3) (Если будет желание) Поиграйте с разными библиотеками для визуализации - *sns*, *pandas_visual_analysis*, etc.\n",
    "\n",
    "Второй пункт очень важен, потому что существуют задачи классификации с несбалансированными классами. Например, это может значить, что в датасете намного больше примеров 0 класса. В таких случаях нужно 1) не использовать accuracy как метрику 2) использовать методы борьбы с imbalanced dataset (обычно если датасет сильно несбалансирован, т.е. класса 1 в 20 раз меньше класса 0)."
   ]
  },
  {
   "cell_type": "markdown",
   "metadata": {
    "id": "2BtvWK0hakg9"
   },
   "source": [
    "### ОТВЕТ\n",
    "Когда я попыталась построить гистограммы для числовых признаков, Колаб выдавал ошибку. Я проверила и оказалось, что у признака `TotalSpent` не числовые типы  данных. Соответсвенно, первоначально, я преобразовала его в числовой тип данных. Но не всё так просто: команда не сработала, потому что столбец ` TotalSpent ` сожержит пустые значения (\" \").Посмотрим на эти пустые значения:\n",
    "\n",
    "\n"
   ]
  },
  {
   "cell_type": "code",
   "execution_count": 10,
   "metadata": {
    "colab": {
     "base_uri": "https://localhost:8080/",
     "height": 472
    },
    "id": "FzTFbNXimND4",
    "outputId": "288226de-c6a1-4729-d30c-40c4a314e745"
   },
   "outputs": [
    {
     "data": {
      "text/html": [
       "<div>\n",
       "<style scoped>\n",
       "    .dataframe tbody tr th:only-of-type {\n",
       "        vertical-align: middle;\n",
       "    }\n",
       "\n",
       "    .dataframe tbody tr th {\n",
       "        vertical-align: top;\n",
       "    }\n",
       "\n",
       "    .dataframe thead th {\n",
       "        text-align: right;\n",
       "    }\n",
       "</style>\n",
       "<table border=\"1\" class=\"dataframe\">\n",
       "  <thead>\n",
       "    <tr style=\"text-align: right;\">\n",
       "      <th></th>\n",
       "      <th>ClientPeriod</th>\n",
       "      <th>MonthlySpending</th>\n",
       "      <th>TotalSpent</th>\n",
       "      <th>Sex</th>\n",
       "      <th>IsSeniorCitizen</th>\n",
       "      <th>HasPartner</th>\n",
       "      <th>HasChild</th>\n",
       "      <th>HasPhoneService</th>\n",
       "      <th>HasMultiplePhoneNumbers</th>\n",
       "      <th>HasInternetService</th>\n",
       "      <th>HasOnlineSecurityService</th>\n",
       "      <th>HasOnlineBackup</th>\n",
       "      <th>HasDeviceProtection</th>\n",
       "      <th>HasTechSupportAccess</th>\n",
       "      <th>HasOnlineTV</th>\n",
       "      <th>HasMovieSubscription</th>\n",
       "      <th>HasContractPhone</th>\n",
       "      <th>IsBillingPaperless</th>\n",
       "      <th>PaymentMethod</th>\n",
       "      <th>Churn</th>\n",
       "    </tr>\n",
       "  </thead>\n",
       "  <tbody>\n",
       "    <tr>\n",
       "      <th>1048</th>\n",
       "      <td>0</td>\n",
       "      <td>25.75</td>\n",
       "      <td></td>\n",
       "      <td>Male</td>\n",
       "      <td>0</td>\n",
       "      <td>Yes</td>\n",
       "      <td>Yes</td>\n",
       "      <td>Yes</td>\n",
       "      <td>Yes</td>\n",
       "      <td>No</td>\n",
       "      <td>No internet service</td>\n",
       "      <td>No internet service</td>\n",
       "      <td>No internet service</td>\n",
       "      <td>No internet service</td>\n",
       "      <td>No internet service</td>\n",
       "      <td>No internet service</td>\n",
       "      <td>Two year</td>\n",
       "      <td>No</td>\n",
       "      <td>Mailed check</td>\n",
       "      <td>0</td>\n",
       "    </tr>\n",
       "    <tr>\n",
       "      <th>1707</th>\n",
       "      <td>0</td>\n",
       "      <td>73.35</td>\n",
       "      <td></td>\n",
       "      <td>Female</td>\n",
       "      <td>0</td>\n",
       "      <td>Yes</td>\n",
       "      <td>Yes</td>\n",
       "      <td>Yes</td>\n",
       "      <td>Yes</td>\n",
       "      <td>DSL</td>\n",
       "      <td>No</td>\n",
       "      <td>Yes</td>\n",
       "      <td>Yes</td>\n",
       "      <td>Yes</td>\n",
       "      <td>Yes</td>\n",
       "      <td>No</td>\n",
       "      <td>Two year</td>\n",
       "      <td>No</td>\n",
       "      <td>Mailed check</td>\n",
       "      <td>0</td>\n",
       "    </tr>\n",
       "    <tr>\n",
       "      <th>2543</th>\n",
       "      <td>0</td>\n",
       "      <td>19.70</td>\n",
       "      <td></td>\n",
       "      <td>Male</td>\n",
       "      <td>0</td>\n",
       "      <td>Yes</td>\n",
       "      <td>Yes</td>\n",
       "      <td>Yes</td>\n",
       "      <td>No</td>\n",
       "      <td>No</td>\n",
       "      <td>No internet service</td>\n",
       "      <td>No internet service</td>\n",
       "      <td>No internet service</td>\n",
       "      <td>No internet service</td>\n",
       "      <td>No internet service</td>\n",
       "      <td>No internet service</td>\n",
       "      <td>One year</td>\n",
       "      <td>Yes</td>\n",
       "      <td>Mailed check</td>\n",
       "      <td>0</td>\n",
       "    </tr>\n",
       "    <tr>\n",
       "      <th>3078</th>\n",
       "      <td>0</td>\n",
       "      <td>80.85</td>\n",
       "      <td></td>\n",
       "      <td>Female</td>\n",
       "      <td>0</td>\n",
       "      <td>Yes</td>\n",
       "      <td>Yes</td>\n",
       "      <td>Yes</td>\n",
       "      <td>No</td>\n",
       "      <td>DSL</td>\n",
       "      <td>Yes</td>\n",
       "      <td>Yes</td>\n",
       "      <td>Yes</td>\n",
       "      <td>No</td>\n",
       "      <td>Yes</td>\n",
       "      <td>Yes</td>\n",
       "      <td>Two year</td>\n",
       "      <td>No</td>\n",
       "      <td>Mailed check</td>\n",
       "      <td>0</td>\n",
       "    </tr>\n",
       "    <tr>\n",
       "      <th>3697</th>\n",
       "      <td>0</td>\n",
       "      <td>20.00</td>\n",
       "      <td></td>\n",
       "      <td>Female</td>\n",
       "      <td>0</td>\n",
       "      <td>Yes</td>\n",
       "      <td>Yes</td>\n",
       "      <td>Yes</td>\n",
       "      <td>No</td>\n",
       "      <td>No</td>\n",
       "      <td>No internet service</td>\n",
       "      <td>No internet service</td>\n",
       "      <td>No internet service</td>\n",
       "      <td>No internet service</td>\n",
       "      <td>No internet service</td>\n",
       "      <td>No internet service</td>\n",
       "      <td>Two year</td>\n",
       "      <td>No</td>\n",
       "      <td>Mailed check</td>\n",
       "      <td>0</td>\n",
       "    </tr>\n",
       "    <tr>\n",
       "      <th>4002</th>\n",
       "      <td>0</td>\n",
       "      <td>61.90</td>\n",
       "      <td></td>\n",
       "      <td>Male</td>\n",
       "      <td>0</td>\n",
       "      <td>No</td>\n",
       "      <td>Yes</td>\n",
       "      <td>Yes</td>\n",
       "      <td>Yes</td>\n",
       "      <td>DSL</td>\n",
       "      <td>Yes</td>\n",
       "      <td>Yes</td>\n",
       "      <td>No</td>\n",
       "      <td>Yes</td>\n",
       "      <td>No</td>\n",
       "      <td>No</td>\n",
       "      <td>Two year</td>\n",
       "      <td>Yes</td>\n",
       "      <td>Bank transfer (automatic)</td>\n",
       "      <td>0</td>\n",
       "    </tr>\n",
       "    <tr>\n",
       "      <th>4326</th>\n",
       "      <td>0</td>\n",
       "      <td>25.35</td>\n",
       "      <td></td>\n",
       "      <td>Male</td>\n",
       "      <td>0</td>\n",
       "      <td>Yes</td>\n",
       "      <td>Yes</td>\n",
       "      <td>Yes</td>\n",
       "      <td>Yes</td>\n",
       "      <td>No</td>\n",
       "      <td>No internet service</td>\n",
       "      <td>No internet service</td>\n",
       "      <td>No internet service</td>\n",
       "      <td>No internet service</td>\n",
       "      <td>No internet service</td>\n",
       "      <td>No internet service</td>\n",
       "      <td>Two year</td>\n",
       "      <td>No</td>\n",
       "      <td>Mailed check</td>\n",
       "      <td>0</td>\n",
       "    </tr>\n",
       "    <tr>\n",
       "      <th>4551</th>\n",
       "      <td>0</td>\n",
       "      <td>52.55</td>\n",
       "      <td></td>\n",
       "      <td>Female</td>\n",
       "      <td>0</td>\n",
       "      <td>Yes</td>\n",
       "      <td>Yes</td>\n",
       "      <td>No</td>\n",
       "      <td>No phone service</td>\n",
       "      <td>DSL</td>\n",
       "      <td>Yes</td>\n",
       "      <td>No</td>\n",
       "      <td>Yes</td>\n",
       "      <td>Yes</td>\n",
       "      <td>Yes</td>\n",
       "      <td>No</td>\n",
       "      <td>Two year</td>\n",
       "      <td>Yes</td>\n",
       "      <td>Bank transfer (automatic)</td>\n",
       "      <td>0</td>\n",
       "    </tr>\n",
       "    <tr>\n",
       "      <th>4598</th>\n",
       "      <td>0</td>\n",
       "      <td>56.05</td>\n",
       "      <td></td>\n",
       "      <td>Female</td>\n",
       "      <td>0</td>\n",
       "      <td>Yes</td>\n",
       "      <td>Yes</td>\n",
       "      <td>No</td>\n",
       "      <td>No phone service</td>\n",
       "      <td>DSL</td>\n",
       "      <td>Yes</td>\n",
       "      <td>Yes</td>\n",
       "      <td>Yes</td>\n",
       "      <td>Yes</td>\n",
       "      <td>Yes</td>\n",
       "      <td>No</td>\n",
       "      <td>Two year</td>\n",
       "      <td>No</td>\n",
       "      <td>Credit card (automatic)</td>\n",
       "      <td>0</td>\n",
       "    </tr>\n",
       "  </tbody>\n",
       "</table>\n",
       "</div>"
      ],
      "text/plain": [
       "      ClientPeriod  MonthlySpending  ...              PaymentMethod Churn\n",
       "1048             0            25.75  ...               Mailed check     0\n",
       "1707             0            73.35  ...               Mailed check     0\n",
       "2543             0            19.70  ...               Mailed check     0\n",
       "3078             0            80.85  ...               Mailed check     0\n",
       "3697             0            20.00  ...               Mailed check     0\n",
       "4002             0            61.90  ...  Bank transfer (automatic)     0\n",
       "4326             0            25.35  ...               Mailed check     0\n",
       "4551             0            52.55  ...  Bank transfer (automatic)     0\n",
       "4598             0            56.05  ...    Credit card (automatic)     0\n",
       "\n",
       "[9 rows x 20 columns]"
      ]
     },
     "execution_count": 10,
     "metadata": {},
     "output_type": "execute_result"
    }
   ],
   "source": [
    "data[data.TotalSpent == ' ']"
   ]
  },
  {
   "cell_type": "markdown",
   "metadata": {
    "id": "_PgJo_4O78Zc"
   },
   "source": [
    "По таблице выше мы видем что для при `TotalSpent` == ' ', значения `ClentsPeriod` равняется нулю. Логично предположить, что эти 9 клиентов на данный момент не успели использовать все услушги в течение месяца (`MonthlySpending` != 0). Поэтому я в ручную задала для данных клиентов значение `MonthlySpending` равным еденице, а `TotalSpent` равным их `MonthlySpending`."
   ]
  },
  {
   "cell_type": "code",
   "execution_count": 11,
   "metadata": {
    "id": "I4ErN6Ri9lXM"
   },
   "outputs": [],
   "source": [
    "data['TotalSpent'] = data['TotalSpent'].mask(data.ClientPeriod == 0, data.MonthlySpending)\n",
    "data['ClientPeriod'] = data['ClientPeriod'].mask(data.ClientPeriod == 0, 1)"
   ]
  },
  {
   "cell_type": "markdown",
   "metadata": {
    "id": "_IxfiuChigEG"
   },
   "source": [
    "Теперь можно перевести данные признака к нужному типу: "
   ]
  },
  {
   "cell_type": "code",
   "execution_count": 12,
   "metadata": {
    "colab": {
     "base_uri": "https://localhost:8080/"
    },
    "id": "nbOAGzoM77px",
    "outputId": "1b5798eb-1748-4a68-8e01-9260f5fc9794"
   },
   "outputs": [
    {
     "name": "stdout",
     "output_type": "stream",
     "text": [
      "<class 'pandas.core.frame.DataFrame'>\n",
      "RangeIndex: 5282 entries, 0 to 5281\n",
      "Data columns (total 20 columns):\n",
      " #   Column                    Non-Null Count  Dtype  \n",
      "---  ------                    --------------  -----  \n",
      " 0   ClientPeriod              5282 non-null   int64  \n",
      " 1   MonthlySpending           5282 non-null   float64\n",
      " 2   TotalSpent                5282 non-null   float64\n",
      " 3   Sex                       5282 non-null   object \n",
      " 4   IsSeniorCitizen           5282 non-null   int64  \n",
      " 5   HasPartner                5282 non-null   object \n",
      " 6   HasChild                  5282 non-null   object \n",
      " 7   HasPhoneService           5282 non-null   object \n",
      " 8   HasMultiplePhoneNumbers   5282 non-null   object \n",
      " 9   HasInternetService        5282 non-null   object \n",
      " 10  HasOnlineSecurityService  5282 non-null   object \n",
      " 11  HasOnlineBackup           5282 non-null   object \n",
      " 12  HasDeviceProtection       5282 non-null   object \n",
      " 13  HasTechSupportAccess      5282 non-null   object \n",
      " 14  HasOnlineTV               5282 non-null   object \n",
      " 15  HasMovieSubscription      5282 non-null   object \n",
      " 16  HasContractPhone          5282 non-null   object \n",
      " 17  IsBillingPaperless        5282 non-null   object \n",
      " 18  PaymentMethod             5282 non-null   object \n",
      " 19  Churn                     5282 non-null   int64  \n",
      "dtypes: float64(2), int64(3), object(15)\n",
      "memory usage: 825.4+ KB\n"
     ]
    }
   ],
   "source": [
    "data['TotalSpent'] = pd.to_numeric(data['TotalSpent'])\n",
    "data.info()"
   ]
  },
  {
   "cell_type": "markdown",
   "metadata": {
    "id": "1Rl0Sorj9klz"
   },
   "source": [
    "*Для численных призанков постройте гистограмму (plt.hist(...)) или boxplot (plt.boxplot(...)).*"
   ]
  },
  {
   "cell_type": "code",
   "execution_count": 13,
   "metadata": {
    "colab": {
     "base_uri": "https://localhost:8080/",
     "height": 356
    },
    "id": "NZkbgFJZEEZE",
    "outputId": "b30bb302-d53e-4bfb-f1ce-e977f7ffd30b"
   },
   "outputs": [
    {
     "data": {
      "image/png": "[encoded data removed]",
      "text/plain": [
       "<Figure size 1080x360 with 3 Axes>"
      ]
     },
     "metadata": {
      "needs_background": "light"
     },
     "output_type": "display_data"
    }
   ],
   "source": [
    "# YOUR CODE\n",
    "\n",
    "fig, axis = plt.subplots(1, 3, figsize=(15,5))\n",
    "fig.suptitle('Numerical features \\n\\n', fontsize=20)\n",
    "for i, col in enumerate(num_cols):\n",
    "  axis[i].hist(data[col])\n",
    "  axis[i].set_title(col)\n",
    "  axis[i].grid()\n",
    "  axis[i].set_ylabel('Quantity')\n",
    "plt.show()"
   ]
  },
  {
   "cell_type": "markdown",
   "metadata": {
    "id": "KHwQ-hG7tADY"
   },
   "source": [
    "*Для категориальных посчитайте количество каждого значения для каждого признака. Для каждой колонки надо сделать data.value_counts() и построить bar диаграммы plt.bar(...) или круговые диаграммы plt.pie(...)*"
   ]
  },
  {
   "cell_type": "code",
   "execution_count": 14,
   "metadata": {
    "colab": {
     "base_uri": "https://localhost:8080/"
    },
    "id": "C7xXZcXOs_cO",
    "outputId": "0830352c-d48b-44c8-b8f5-62b47d0a0fbb"
   },
   "outputs": [
    {
     "name": "stdout",
     "output_type": "stream",
     "text": [
      "Male      2655\n",
      "Female    2627\n",
      "Name: Sex, dtype: int64 \n",
      "\n",
      "0    4440\n",
      "1     842\n",
      "Name: IsSeniorCitizen, dtype: int64 \n",
      "\n",
      "No     2705\n",
      "Yes    2577\n",
      "Name: HasPartner, dtype: int64 \n",
      "\n",
      "No     3676\n",
      "Yes    1606\n",
      "Name: HasChild, dtype: int64 \n",
      "\n",
      "Yes    4761\n",
      "No      521\n",
      "Name: HasPhoneService, dtype: int64 \n",
      "\n",
      "No                  2511\n",
      "Yes                 2250\n",
      "No phone service     521\n",
      "Name: HasMultiplePhoneNumbers, dtype: int64 \n",
      "\n",
      "Fiber optic    2341\n",
      "DSL            1800\n",
      "No             1141\n",
      "Name: HasInternetService, dtype: int64 \n",
      "\n",
      "No                     2612\n",
      "Yes                    1529\n",
      "No internet service    1141\n",
      "Name: HasOnlineSecurityService, dtype: int64 \n",
      "\n",
      "No                     2332\n",
      "Yes                    1809\n",
      "No internet service    1141\n",
      "Name: HasOnlineBackup, dtype: int64 \n",
      "\n",
      "No                     2317\n",
      "Yes                    1824\n",
      "No internet service    1141\n",
      "Name: HasDeviceProtection, dtype: int64 \n",
      "\n",
      "No                     2604\n",
      "Yes                    1537\n",
      "No internet service    1141\n",
      "Name: HasTechSupportAccess, dtype: int64 \n",
      "\n",
      "No                     2099\n",
      "Yes                    2042\n",
      "No internet service    1141\n",
      "Name: HasOnlineTV, dtype: int64 \n",
      "\n",
      "No                     2081\n",
      "Yes                    2060\n",
      "No internet service    1141\n",
      "Name: HasMovieSubscription, dtype: int64 \n",
      "\n",
      "Month-to-month    2920\n",
      "Two year          1280\n",
      "One year          1082\n",
      "Name: HasContractPhone, dtype: int64 \n",
      "\n",
      "Yes    3148\n",
      "No     2134\n",
      "Name: IsBillingPaperless, dtype: int64 \n",
      "\n",
      "Electronic check             1786\n",
      "Mailed check                 1194\n",
      "Bank transfer (automatic)    1159\n",
      "Credit card (automatic)      1143\n",
      "Name: PaymentMethod, dtype: int64 \n",
      "\n"
     ]
    }
   ],
   "source": [
    "for i in cat_cols:\n",
    "  print(data[i].value_counts(), '\\n')\n",
    "  "
   ]
  },
  {
   "cell_type": "code",
   "execution_count": 15,
   "metadata": {
    "colab": {
     "base_uri": "https://localhost:8080/",
     "height": 741
    },
    "id": "6fC_iQRUtOFZ",
    "outputId": "aa575136-ca08-4a1c-ab3d-878169edb0fb"
   },
   "outputs": [
    {
     "data": {
      "image/png": "[encoded data removed]",
      "text/plain": [
       "<Figure size 1080x720 with 16 Axes>"
      ]
     },
     "metadata": {
      "needs_background": "light"
     },
     "output_type": "display_data"
    }
   ],
   "source": [
    "fig, axes = plt.subplots(4,4, figsize=(15,10))\n",
    "fig.tight_layout()\n",
    "i = 0\n",
    "for row in axes:\n",
    "  for col in row:\n",
    "    col.bar(data[cat_cols[i]].value_counts().index, data[cat_cols[i]].value_counts().values )\n",
    "    col.set_title(cat_cols[i])\n",
    "    i += 1\n",
    "plt.show()"
   ]
  },
  {
   "cell_type": "code",
   "execution_count": 16,
   "metadata": {
    "colab": {
     "base_uri": "https://localhost:8080/",
     "height": 724
    },
    "id": "tobemPzFtOQe",
    "outputId": "3472bd3e-de6f-454a-b78e-a66f7d4b6f30"
   },
   "outputs": [
    {
     "data": {
      "image/png": "[encoded data removed]",
      "text/plain": [
       "<Figure size 1080x720 with 16 Axes>"
      ]
     },
     "metadata": {},
     "output_type": "display_data"
    }
   ],
   "source": [
    "fig, axes = plt.subplots(4,4, figsize=(15,10))\n",
    "fig.tight_layout()\n",
    "i = 0\n",
    "for row in axes:\n",
    "  for col in row:\n",
    "    col.pie(data[cat_cols[i]].value_counts().values, labels = data[cat_cols[i]].value_counts().index )\n",
    "    col.set_title(cat_cols[i])\n",
    "    i += 1\n",
    "plt.show()"
   ]
  },
  {
   "cell_type": "markdown",
   "metadata": {
    "id": "PC2pEsIvtOo_"
   },
   "source": [
    "Посмотрите на распределение целевой переменной и скажите, являются ли классы несбалансированными."
   ]
  },
  {
   "cell_type": "code",
   "execution_count": 17,
   "metadata": {
    "colab": {
     "base_uri": "https://localhost:8080/",
     "height": 264
    },
    "id": "sqXPgn4DC_Qy",
    "outputId": "76409e9d-fedf-46e0-c09e-7f4b1bb879c7"
   },
   "outputs": [
    {
     "data": {
      "image/png": "[encoded data removed]",
      "text/plain": [
       "<Figure size 432x288 with 1 Axes>"
      ]
     },
     "metadata": {},
     "output_type": "display_data"
    }
   ],
   "source": [
    "plt.pie(data.Churn.value_counts(), labels = data.Churn.value_counts().index,  autopct='%1.1f%%')\n",
    "plt.legend()\n",
    "plt.title('Churn')\n",
    "plt.show()"
   ]
  },
  {
   "cell_type": "markdown",
   "metadata": {
    "id": "faSb5VtPC-89"
   },
   "source": [
    "Классы являются несбалансированными."
   ]
  },
  {
   "cell_type": "markdown",
   "metadata": {
    "id": "zg60u3QDEEZH"
   },
   "source": [
    "(Дополнительно) Если вы нашли какие-то ошибки в данных или выбросы, то можете их убрать. Тут можно поэксперементировать с обработкой данных как угодно, но не за баллы."
   ]
  },
  {
   "cell_type": "code",
   "execution_count": 18,
   "metadata": {
    "id": "fwfksF1gEEZI"
   },
   "outputs": [],
   "source": [
    "# YOUR CODE"
   ]
  },
  {
   "cell_type": "markdown",
   "metadata": {
    "id": "DviiJd8REEZK"
   },
   "source": [
    "## Применение линейных моделей (3 балла)\n",
    "\n",
    "1) Обработайте данные для того, чтобы к ним можно было применить LogisticRegression. Т.е. отнормируйте числовые признаки, а категориальные закодируйте с помощью one-hot-encoding'а. \n",
    "\n",
    "2) С помощью кроссвалидации или разделения на train/valid выборку протестируйте разные значения гиперпараметра C и выберите лучший (можно тестировать С=100, 10, 1, 0.1, 0.01, 0.001) по метрике ROC-AUC. \n",
    "\n",
    "Если вы разделяете на train/valid, то используйте LogisticRegressionCV. Он сам при вызове .fit() подберет параметр С. (не забудьте передать scroing='roc_auc', чтобы при кроссвалидации сравнивались значения этой метрики, и refit=True, чтобы при потом модель обучилась на всем датасете с лучшим параметром C). \n",
    "\n",
    "\n",
    "(более сложный вариант) Если вы будете использовать кроссвалидацию, то преобразования данных и LogisticRegression нужно соединить в один Pipeline с помощью make_pipeline, как это делалось во втором семинаре. Потом pipeline надо передать в GridSearchCV. Для one-hot-encoding'a можно испльзовать комбинацию LabelEncoder + OneHotEncoder (сначала превращаем строчки в числа, а потом числа првращаем в one-hot вектора.)"
   ]
  },
  {
   "cell_type": "code",
   "execution_count": 19,
   "metadata": {
    "id": "xHCLDmwqEEZL"
   },
   "outputs": [],
   "source": [
    "from sklearn.linear_model import LogisticRegression, LogisticRegressionCV\n",
    "from sklearn.model_selection import train_test_split, GridSearchCV\n",
    "from sklearn.preprocessing import StandardScaler, RobustScaler, LabelEncoder, OneHotEncoder\n",
    "from sklearn.pipeline import make_pipeline"
   ]
  },
  {
   "cell_type": "markdown",
   "metadata": {
    "id": "f-8Po-fdh7n6"
   },
   "source": [
    "*Обработайте данные для того, чтобы к ним можно было применить LogisticRegression. Т.е. отнормируйте числовые признаки, а категориальные закодируйте с помощью one-hot-encoding'а.*"
   ]
  },
  {
   "cell_type": "markdown",
   "metadata": {
    "id": "2L8mzDRmP73O"
   },
   "source": [
    "С помощью кроссвалидации или разделения на train/valid выборку протестируйте разные значения гиперпараметра C и выберите лучший (можно тестировать С=100, 10, 1, 0.1, 0.01, 0.001) по метрике ROC-AUC."
   ]
  },
  {
   "cell_type": "code",
   "execution_count": 20,
   "metadata": {
    "colab": {
     "base_uri": "https://localhost:8080/",
     "height": 260
    },
    "id": "P2Yv3uYtEEZO",
    "outputId": "8ccee78d-97fb-47ba-b32d-25a8a95c0162"
   },
   "outputs": [
    {
     "data": {
      "text/html": [
       "<div>\n",
       "<style scoped>\n",
       "    .dataframe tbody tr th:only-of-type {\n",
       "        vertical-align: middle;\n",
       "    }\n",
       "\n",
       "    .dataframe tbody tr th {\n",
       "        vertical-align: top;\n",
       "    }\n",
       "\n",
       "    .dataframe thead th {\n",
       "        text-align: right;\n",
       "    }\n",
       "</style>\n",
       "<table border=\"1\" class=\"dataframe\">\n",
       "  <thead>\n",
       "    <tr style=\"text-align: right;\">\n",
       "      <th></th>\n",
       "      <th>ClientPeriod</th>\n",
       "      <th>MonthlySpending</th>\n",
       "      <th>TotalSpent</th>\n",
       "      <th>IsSeniorCitizen</th>\n",
       "      <th>Sex_Female</th>\n",
       "      <th>Sex_Male</th>\n",
       "      <th>HasPartner_No</th>\n",
       "      <th>HasPartner_Yes</th>\n",
       "      <th>HasChild_No</th>\n",
       "      <th>HasChild_Yes</th>\n",
       "      <th>HasPhoneService_No</th>\n",
       "      <th>HasPhoneService_Yes</th>\n",
       "      <th>HasMultiplePhoneNumbers_No</th>\n",
       "      <th>HasMultiplePhoneNumbers_No phone service</th>\n",
       "      <th>HasMultiplePhoneNumbers_Yes</th>\n",
       "      <th>HasInternetService_DSL</th>\n",
       "      <th>HasInternetService_Fiber optic</th>\n",
       "      <th>HasInternetService_No</th>\n",
       "      <th>HasOnlineSecurityService_No</th>\n",
       "      <th>HasOnlineSecurityService_No internet service</th>\n",
       "      <th>HasOnlineSecurityService_Yes</th>\n",
       "      <th>HasOnlineBackup_No</th>\n",
       "      <th>HasOnlineBackup_No internet service</th>\n",
       "      <th>HasOnlineBackup_Yes</th>\n",
       "      <th>HasDeviceProtection_No</th>\n",
       "      <th>HasDeviceProtection_No internet service</th>\n",
       "      <th>HasDeviceProtection_Yes</th>\n",
       "      <th>HasTechSupportAccess_No</th>\n",
       "      <th>HasTechSupportAccess_No internet service</th>\n",
       "      <th>HasTechSupportAccess_Yes</th>\n",
       "      <th>HasOnlineTV_No</th>\n",
       "      <th>HasOnlineTV_No internet service</th>\n",
       "      <th>HasOnlineTV_Yes</th>\n",
       "      <th>HasMovieSubscription_No</th>\n",
       "      <th>HasMovieSubscription_No internet service</th>\n",
       "      <th>HasMovieSubscription_Yes</th>\n",
       "      <th>HasContractPhone_Month-to-month</th>\n",
       "      <th>HasContractPhone_One year</th>\n",
       "      <th>HasContractPhone_Two year</th>\n",
       "      <th>IsBillingPaperless_No</th>\n",
       "      <th>IsBillingPaperless_Yes</th>\n",
       "      <th>PaymentMethod_Bank transfer (automatic)</th>\n",
       "      <th>PaymentMethod_Credit card (automatic)</th>\n",
       "      <th>PaymentMethod_Electronic check</th>\n",
       "      <th>PaymentMethod_Mailed check</th>\n",
       "    </tr>\n",
       "  </thead>\n",
       "  <tbody>\n",
       "    <tr>\n",
       "      <th>0</th>\n",
       "      <td>0.920781</td>\n",
       "      <td>-1.505447</td>\n",
       "      <td>-0.555906</td>\n",
       "      <td>0</td>\n",
       "      <td>0</td>\n",
       "      <td>1</td>\n",
       "      <td>0</td>\n",
       "      <td>1</td>\n",
       "      <td>0</td>\n",
       "      <td>1</td>\n",
       "      <td>0</td>\n",
       "      <td>1</td>\n",
       "      <td>1</td>\n",
       "      <td>0</td>\n",
       "      <td>0</td>\n",
       "      <td>0</td>\n",
       "      <td>0</td>\n",
       "      <td>1</td>\n",
       "      <td>0</td>\n",
       "      <td>1</td>\n",
       "      <td>0</td>\n",
       "      <td>0</td>\n",
       "      <td>1</td>\n",
       "      <td>0</td>\n",
       "      <td>0</td>\n",
       "      <td>1</td>\n",
       "      <td>0</td>\n",
       "      <td>0</td>\n",
       "      <td>1</td>\n",
       "      <td>0</td>\n",
       "      <td>0</td>\n",
       "      <td>1</td>\n",
       "      <td>0</td>\n",
       "      <td>0</td>\n",
       "      <td>1</td>\n",
       "      <td>0</td>\n",
       "      <td>0</td>\n",
       "      <td>1</td>\n",
       "      <td>0</td>\n",
       "      <td>1</td>\n",
       "      <td>0</td>\n",
       "      <td>0</td>\n",
       "      <td>0</td>\n",
       "      <td>0</td>\n",
       "      <td>1</td>\n",
       "    </tr>\n",
       "    <tr>\n",
       "      <th>1</th>\n",
       "      <td>1.613364</td>\n",
       "      <td>-1.294998</td>\n",
       "      <td>-0.183080</td>\n",
       "      <td>0</td>\n",
       "      <td>0</td>\n",
       "      <td>1</td>\n",
       "      <td>0</td>\n",
       "      <td>1</td>\n",
       "      <td>1</td>\n",
       "      <td>0</td>\n",
       "      <td>0</td>\n",
       "      <td>1</td>\n",
       "      <td>0</td>\n",
       "      <td>0</td>\n",
       "      <td>1</td>\n",
       "      <td>0</td>\n",
       "      <td>0</td>\n",
       "      <td>1</td>\n",
       "      <td>0</td>\n",
       "      <td>1</td>\n",
       "      <td>0</td>\n",
       "      <td>0</td>\n",
       "      <td>1</td>\n",
       "      <td>0</td>\n",
       "      <td>0</td>\n",
       "      <td>1</td>\n",
       "      <td>0</td>\n",
       "      <td>0</td>\n",
       "      <td>1</td>\n",
       "      <td>0</td>\n",
       "      <td>0</td>\n",
       "      <td>1</td>\n",
       "      <td>0</td>\n",
       "      <td>0</td>\n",
       "      <td>1</td>\n",
       "      <td>0</td>\n",
       "      <td>0</td>\n",
       "      <td>0</td>\n",
       "      <td>1</td>\n",
       "      <td>1</td>\n",
       "      <td>0</td>\n",
       "      <td>0</td>\n",
       "      <td>1</td>\n",
       "      <td>0</td>\n",
       "      <td>0</td>\n",
       "    </tr>\n",
       "    <tr>\n",
       "      <th>2</th>\n",
       "      <td>-1.279189</td>\n",
       "      <td>0.363737</td>\n",
       "      <td>-0.974836</td>\n",
       "      <td>0</td>\n",
       "      <td>0</td>\n",
       "      <td>1</td>\n",
       "      <td>1</td>\n",
       "      <td>0</td>\n",
       "      <td>1</td>\n",
       "      <td>0</td>\n",
       "      <td>0</td>\n",
       "      <td>1</td>\n",
       "      <td>1</td>\n",
       "      <td>0</td>\n",
       "      <td>0</td>\n",
       "      <td>0</td>\n",
       "      <td>1</td>\n",
       "      <td>0</td>\n",
       "      <td>1</td>\n",
       "      <td>0</td>\n",
       "      <td>0</td>\n",
       "      <td>1</td>\n",
       "      <td>0</td>\n",
       "      <td>0</td>\n",
       "      <td>1</td>\n",
       "      <td>0</td>\n",
       "      <td>0</td>\n",
       "      <td>0</td>\n",
       "      <td>0</td>\n",
       "      <td>1</td>\n",
       "      <td>1</td>\n",
       "      <td>0</td>\n",
       "      <td>0</td>\n",
       "      <td>1</td>\n",
       "      <td>0</td>\n",
       "      <td>0</td>\n",
       "      <td>1</td>\n",
       "      <td>0</td>\n",
       "      <td>0</td>\n",
       "      <td>0</td>\n",
       "      <td>1</td>\n",
       "      <td>0</td>\n",
       "      <td>0</td>\n",
       "      <td>1</td>\n",
       "      <td>0</td>\n",
       "    </tr>\n",
       "    <tr>\n",
       "      <th>3</th>\n",
       "      <td>-0.016244</td>\n",
       "      <td>0.476418</td>\n",
       "      <td>0.124489</td>\n",
       "      <td>1</td>\n",
       "      <td>1</td>\n",
       "      <td>0</td>\n",
       "      <td>0</td>\n",
       "      <td>1</td>\n",
       "      <td>1</td>\n",
       "      <td>0</td>\n",
       "      <td>0</td>\n",
       "      <td>1</td>\n",
       "      <td>0</td>\n",
       "      <td>0</td>\n",
       "      <td>1</td>\n",
       "      <td>0</td>\n",
       "      <td>1</td>\n",
       "      <td>0</td>\n",
       "      <td>1</td>\n",
       "      <td>0</td>\n",
       "      <td>0</td>\n",
       "      <td>1</td>\n",
       "      <td>0</td>\n",
       "      <td>0</td>\n",
       "      <td>0</td>\n",
       "      <td>0</td>\n",
       "      <td>1</td>\n",
       "      <td>1</td>\n",
       "      <td>0</td>\n",
       "      <td>0</td>\n",
       "      <td>1</td>\n",
       "      <td>0</td>\n",
       "      <td>0</td>\n",
       "      <td>1</td>\n",
       "      <td>0</td>\n",
       "      <td>0</td>\n",
       "      <td>1</td>\n",
       "      <td>0</td>\n",
       "      <td>0</td>\n",
       "      <td>1</td>\n",
       "      <td>0</td>\n",
       "      <td>0</td>\n",
       "      <td>0</td>\n",
       "      <td>0</td>\n",
       "      <td>1</td>\n",
       "    </tr>\n",
       "    <tr>\n",
       "      <th>4</th>\n",
       "      <td>1.124482</td>\n",
       "      <td>1.667856</td>\n",
       "      <td>1.970633</td>\n",
       "      <td>0</td>\n",
       "      <td>1</td>\n",
       "      <td>0</td>\n",
       "      <td>0</td>\n",
       "      <td>1</td>\n",
       "      <td>0</td>\n",
       "      <td>1</td>\n",
       "      <td>0</td>\n",
       "      <td>1</td>\n",
       "      <td>0</td>\n",
       "      <td>0</td>\n",
       "      <td>1</td>\n",
       "      <td>0</td>\n",
       "      <td>1</td>\n",
       "      <td>0</td>\n",
       "      <td>0</td>\n",
       "      <td>0</td>\n",
       "      <td>1</td>\n",
       "      <td>0</td>\n",
       "      <td>0</td>\n",
       "      <td>1</td>\n",
       "      <td>0</td>\n",
       "      <td>0</td>\n",
       "      <td>1</td>\n",
       "      <td>0</td>\n",
       "      <td>0</td>\n",
       "      <td>1</td>\n",
       "      <td>0</td>\n",
       "      <td>0</td>\n",
       "      <td>1</td>\n",
       "      <td>0</td>\n",
       "      <td>0</td>\n",
       "      <td>1</td>\n",
       "      <td>0</td>\n",
       "      <td>0</td>\n",
       "      <td>1</td>\n",
       "      <td>1</td>\n",
       "      <td>0</td>\n",
       "      <td>0</td>\n",
       "      <td>1</td>\n",
       "      <td>0</td>\n",
       "      <td>0</td>\n",
       "    </tr>\n",
       "  </tbody>\n",
       "</table>\n",
       "</div>"
      ],
      "text/plain": [
       "   ClientPeriod  ...  PaymentMethod_Mailed check\n",
       "0      0.920781  ...                           1\n",
       "1      1.613364  ...                           0\n",
       "2     -1.279189  ...                           0\n",
       "3     -0.016244  ...                           1\n",
       "4      1.124482  ...                           0\n",
       "\n",
       "[5 rows x 45 columns]"
      ]
     },
     "execution_count": 20,
     "metadata": {},
     "output_type": "execute_result"
    }
   ],
   "source": [
    "# YOUR CODE\n",
    "data_cat_dummies = pd.get_dummies(data[cat_cols])\n",
    "scaler = StandardScaler()\n",
    "data_num_scaled = pd.DataFrame(scaler.fit_transform(data[num_cols]), index = data[num_cols].index, columns = data[num_cols].columns)\n",
    "X = pd.concat([data_num_scaled, data_cat_dummies], axis = 1)\n",
    "y = data.Churn\n",
    "X.head()"
   ]
  },
  {
   "cell_type": "code",
   "execution_count": 21,
   "metadata": {
    "colab": {
     "base_uri": "https://localhost:8080/"
    },
    "id": "v63Q_S2SPkPZ",
    "outputId": "70df6d79-a9ba-4d7c-f05c-d89faf4aa113"
   },
   "outputs": [
    {
     "name": "stdout",
     "output_type": "stream",
     "text": [
      "The best score for Logistic Regression by GridSearchCV is  0.8475061161694996\n",
      "The best parameters {'penalty': 'l2'}\n"
     ]
    }
   ],
   "source": [
    "X_train, X_test, y_train, y_test = train_test_split(X, y, train_size = 0.7, random_state = 42)\n",
    "\n",
    "param_grid = {\n",
    "    # \"C\" : [100, 10, 1, 0.1, 0.01, 0.001], \n",
    "    \"penalty\" : [\"l1\", \"l2\"]}\n",
    "LR = LogisticRegressionCV();\n",
    "classifier = GridSearchCV(LR, param_grid, cv=5, scoring='roc_auc', refit=True, n_jobs=-1, verbose =0);\n",
    "classifier.fit(X_train, y_train);\n",
    "print('The best score for Logistic Regression by GridSearchCV is ', classifier.best_score_)\n",
    "print('The best parameters', classifier.best_params_)"
   ]
  },
  {
   "cell_type": "code",
   "execution_count": 22,
   "metadata": {
    "colab": {
     "base_uri": "https://localhost:8080/",
     "height": 260
    },
    "id": "2RjOGmiBmdDH",
    "outputId": "51a016d8-3d24-4d2b-a02e-54a6e4ef86a6"
   },
   "outputs": [
    {
     "data": {
      "text/html": [
       "<div>\n",
       "<style scoped>\n",
       "    .dataframe tbody tr th:only-of-type {\n",
       "        vertical-align: middle;\n",
       "    }\n",
       "\n",
       "    .dataframe tbody tr th {\n",
       "        vertical-align: top;\n",
       "    }\n",
       "\n",
       "    .dataframe thead th {\n",
       "        text-align: right;\n",
       "    }\n",
       "</style>\n",
       "<table border=\"1\" class=\"dataframe\">\n",
       "  <thead>\n",
       "    <tr style=\"text-align: right;\">\n",
       "      <th></th>\n",
       "      <th>ClientPeriod</th>\n",
       "      <th>MonthlySpending</th>\n",
       "      <th>TotalSpent</th>\n",
       "      <th>IsSeniorCitizen</th>\n",
       "      <th>Sex_Female</th>\n",
       "      <th>Sex_Male</th>\n",
       "      <th>HasPartner_No</th>\n",
       "      <th>HasPartner_Yes</th>\n",
       "      <th>HasChild_No</th>\n",
       "      <th>HasChild_Yes</th>\n",
       "      <th>HasPhoneService_No</th>\n",
       "      <th>HasPhoneService_Yes</th>\n",
       "      <th>HasMultiplePhoneNumbers_No</th>\n",
       "      <th>HasMultiplePhoneNumbers_No phone service</th>\n",
       "      <th>HasMultiplePhoneNumbers_Yes</th>\n",
       "      <th>HasInternetService_DSL</th>\n",
       "      <th>HasInternetService_Fiber optic</th>\n",
       "      <th>HasInternetService_No</th>\n",
       "      <th>HasOnlineSecurityService_No</th>\n",
       "      <th>HasOnlineSecurityService_No internet service</th>\n",
       "      <th>HasOnlineSecurityService_Yes</th>\n",
       "      <th>HasOnlineBackup_No</th>\n",
       "      <th>HasOnlineBackup_No internet service</th>\n",
       "      <th>HasOnlineBackup_Yes</th>\n",
       "      <th>HasDeviceProtection_No</th>\n",
       "      <th>HasDeviceProtection_No internet service</th>\n",
       "      <th>HasDeviceProtection_Yes</th>\n",
       "      <th>HasTechSupportAccess_No</th>\n",
       "      <th>HasTechSupportAccess_No internet service</th>\n",
       "      <th>HasTechSupportAccess_Yes</th>\n",
       "      <th>HasOnlineTV_No</th>\n",
       "      <th>HasOnlineTV_No internet service</th>\n",
       "      <th>HasOnlineTV_Yes</th>\n",
       "      <th>HasMovieSubscription_No</th>\n",
       "      <th>HasMovieSubscription_No internet service</th>\n",
       "      <th>HasMovieSubscription_Yes</th>\n",
       "      <th>HasContractPhone_Month-to-month</th>\n",
       "      <th>HasContractPhone_One year</th>\n",
       "      <th>HasContractPhone_Two year</th>\n",
       "      <th>IsBillingPaperless_No</th>\n",
       "      <th>IsBillingPaperless_Yes</th>\n",
       "      <th>PaymentMethod_Bank transfer (automatic)</th>\n",
       "      <th>PaymentMethod_Credit card (automatic)</th>\n",
       "      <th>PaymentMethod_Electronic check</th>\n",
       "      <th>PaymentMethod_Mailed check</th>\n",
       "    </tr>\n",
       "  </thead>\n",
       "  <tbody>\n",
       "    <tr>\n",
       "      <th>0</th>\n",
       "      <td>0.920781</td>\n",
       "      <td>-1.505447</td>\n",
       "      <td>-0.555906</td>\n",
       "      <td>-0.435476</td>\n",
       "      <td>-0.994713</td>\n",
       "      <td>0.994713</td>\n",
       "      <td>-1.024534</td>\n",
       "      <td>1.024534</td>\n",
       "      <td>-1.512917</td>\n",
       "      <td>1.512917</td>\n",
       "      <td>-0.330803</td>\n",
       "      <td>0.330803</td>\n",
       "      <td>1.050497</td>\n",
       "      <td>-0.330803</td>\n",
       "      <td>-0.861443</td>\n",
       "      <td>-0.718988</td>\n",
       "      <td>-0.892181</td>\n",
       "      <td>1.905065</td>\n",
       "      <td>-0.989079</td>\n",
       "      <td>1.905065</td>\n",
       "      <td>-0.638285</td>\n",
       "      <td>-0.889105</td>\n",
       "      <td>1.905065</td>\n",
       "      <td>-0.721717</td>\n",
       "      <td>-0.883997</td>\n",
       "      <td>1.905065</td>\n",
       "      <td>-0.726273</td>\n",
       "      <td>-0.986087</td>\n",
       "      <td>1.905065</td>\n",
       "      <td>-0.640636</td>\n",
       "      <td>-0.812060</td>\n",
       "      <td>1.905065</td>\n",
       "      <td>-0.793881</td>\n",
       "      <td>-0.806294</td>\n",
       "      <td>1.905065</td>\n",
       "      <td>-0.799596</td>\n",
       "      <td>-1.111864</td>\n",
       "      <td>1.970203</td>\n",
       "      <td>-0.565544</td>\n",
       "      <td>1.214563</td>\n",
       "      <td>-1.214563</td>\n",
       "      <td>-0.530194</td>\n",
       "      <td>-0.525503</td>\n",
       "      <td>-0.714751</td>\n",
       "      <td>1.850347</td>\n",
       "    </tr>\n",
       "    <tr>\n",
       "      <th>1</th>\n",
       "      <td>1.613364</td>\n",
       "      <td>-1.294998</td>\n",
       "      <td>-0.183080</td>\n",
       "      <td>-0.435476</td>\n",
       "      <td>-0.994713</td>\n",
       "      <td>0.994713</td>\n",
       "      <td>-1.024534</td>\n",
       "      <td>1.024534</td>\n",
       "      <td>0.660975</td>\n",
       "      <td>-0.660975</td>\n",
       "      <td>-0.330803</td>\n",
       "      <td>0.330803</td>\n",
       "      <td>-0.951930</td>\n",
       "      <td>-0.330803</td>\n",
       "      <td>1.160843</td>\n",
       "      <td>-0.718988</td>\n",
       "      <td>-0.892181</td>\n",
       "      <td>1.905065</td>\n",
       "      <td>-0.989079</td>\n",
       "      <td>1.905065</td>\n",
       "      <td>-0.638285</td>\n",
       "      <td>-0.889105</td>\n",
       "      <td>1.905065</td>\n",
       "      <td>-0.721717</td>\n",
       "      <td>-0.883997</td>\n",
       "      <td>1.905065</td>\n",
       "      <td>-0.726273</td>\n",
       "      <td>-0.986087</td>\n",
       "      <td>1.905065</td>\n",
       "      <td>-0.640636</td>\n",
       "      <td>-0.812060</td>\n",
       "      <td>1.905065</td>\n",
       "      <td>-0.793881</td>\n",
       "      <td>-0.806294</td>\n",
       "      <td>1.905065</td>\n",
       "      <td>-0.799596</td>\n",
       "      <td>-1.111864</td>\n",
       "      <td>-0.507562</td>\n",
       "      <td>1.768209</td>\n",
       "      <td>1.214563</td>\n",
       "      <td>-1.214563</td>\n",
       "      <td>-0.530194</td>\n",
       "      <td>1.902938</td>\n",
       "      <td>-0.714751</td>\n",
       "      <td>-0.540439</td>\n",
       "    </tr>\n",
       "    <tr>\n",
       "      <th>2</th>\n",
       "      <td>-1.279189</td>\n",
       "      <td>0.363737</td>\n",
       "      <td>-0.974836</td>\n",
       "      <td>-0.435476</td>\n",
       "      <td>-0.994713</td>\n",
       "      <td>0.994713</td>\n",
       "      <td>0.976053</td>\n",
       "      <td>-0.976053</td>\n",
       "      <td>0.660975</td>\n",
       "      <td>-0.660975</td>\n",
       "      <td>-0.330803</td>\n",
       "      <td>0.330803</td>\n",
       "      <td>1.050497</td>\n",
       "      <td>-0.330803</td>\n",
       "      <td>-0.861443</td>\n",
       "      <td>-0.718988</td>\n",
       "      <td>1.120848</td>\n",
       "      <td>-0.524916</td>\n",
       "      <td>1.011042</td>\n",
       "      <td>-0.524916</td>\n",
       "      <td>-0.638285</td>\n",
       "      <td>1.124726</td>\n",
       "      <td>-0.524916</td>\n",
       "      <td>-0.721717</td>\n",
       "      <td>1.131226</td>\n",
       "      <td>-0.524916</td>\n",
       "      <td>-0.726273</td>\n",
       "      <td>-0.986087</td>\n",
       "      <td>-0.524916</td>\n",
       "      <td>1.560950</td>\n",
       "      <td>1.231437</td>\n",
       "      <td>-0.524916</td>\n",
       "      <td>-0.793881</td>\n",
       "      <td>1.240243</td>\n",
       "      <td>-0.524916</td>\n",
       "      <td>-0.799596</td>\n",
       "      <td>0.899391</td>\n",
       "      <td>-0.507562</td>\n",
       "      <td>-0.565544</td>\n",
       "      <td>-0.823341</td>\n",
       "      <td>0.823341</td>\n",
       "      <td>-0.530194</td>\n",
       "      <td>-0.525503</td>\n",
       "      <td>1.399088</td>\n",
       "      <td>-0.540439</td>\n",
       "    </tr>\n",
       "    <tr>\n",
       "      <th>3</th>\n",
       "      <td>-0.016244</td>\n",
       "      <td>0.476418</td>\n",
       "      <td>0.124489</td>\n",
       "      <td>2.296336</td>\n",
       "      <td>1.005315</td>\n",
       "      <td>-1.005315</td>\n",
       "      <td>-1.024534</td>\n",
       "      <td>1.024534</td>\n",
       "      <td>0.660975</td>\n",
       "      <td>-0.660975</td>\n",
       "      <td>-0.330803</td>\n",
       "      <td>0.330803</td>\n",
       "      <td>-0.951930</td>\n",
       "      <td>-0.330803</td>\n",
       "      <td>1.160843</td>\n",
       "      <td>-0.718988</td>\n",
       "      <td>1.120848</td>\n",
       "      <td>-0.524916</td>\n",
       "      <td>1.011042</td>\n",
       "      <td>-0.524916</td>\n",
       "      <td>-0.638285</td>\n",
       "      <td>1.124726</td>\n",
       "      <td>-0.524916</td>\n",
       "      <td>-0.721717</td>\n",
       "      <td>-0.883997</td>\n",
       "      <td>-0.524916</td>\n",
       "      <td>1.376893</td>\n",
       "      <td>1.014109</td>\n",
       "      <td>-0.524916</td>\n",
       "      <td>-0.640636</td>\n",
       "      <td>1.231437</td>\n",
       "      <td>-0.524916</td>\n",
       "      <td>-0.793881</td>\n",
       "      <td>1.240243</td>\n",
       "      <td>-0.524916</td>\n",
       "      <td>-0.799596</td>\n",
       "      <td>0.899391</td>\n",
       "      <td>-0.507562</td>\n",
       "      <td>-0.565544</td>\n",
       "      <td>1.214563</td>\n",
       "      <td>-1.214563</td>\n",
       "      <td>-0.530194</td>\n",
       "      <td>-0.525503</td>\n",
       "      <td>-0.714751</td>\n",
       "      <td>1.850347</td>\n",
       "    </tr>\n",
       "    <tr>\n",
       "      <th>4</th>\n",
       "      <td>1.124482</td>\n",
       "      <td>1.667856</td>\n",
       "      <td>1.970633</td>\n",
       "      <td>-0.435476</td>\n",
       "      <td>1.005315</td>\n",
       "      <td>-1.005315</td>\n",
       "      <td>-1.024534</td>\n",
       "      <td>1.024534</td>\n",
       "      <td>-1.512917</td>\n",
       "      <td>1.512917</td>\n",
       "      <td>-0.330803</td>\n",
       "      <td>0.330803</td>\n",
       "      <td>-0.951930</td>\n",
       "      <td>-0.330803</td>\n",
       "      <td>1.160843</td>\n",
       "      <td>-0.718988</td>\n",
       "      <td>1.120848</td>\n",
       "      <td>-0.524916</td>\n",
       "      <td>-0.989079</td>\n",
       "      <td>-0.524916</td>\n",
       "      <td>1.566699</td>\n",
       "      <td>-0.889105</td>\n",
       "      <td>-0.524916</td>\n",
       "      <td>1.385585</td>\n",
       "      <td>-0.883997</td>\n",
       "      <td>-0.524916</td>\n",
       "      <td>1.376893</td>\n",
       "      <td>-0.986087</td>\n",
       "      <td>-0.524916</td>\n",
       "      <td>1.560950</td>\n",
       "      <td>-0.812060</td>\n",
       "      <td>-0.524916</td>\n",
       "      <td>1.259635</td>\n",
       "      <td>-0.806294</td>\n",
       "      <td>-0.524916</td>\n",
       "      <td>1.250631</td>\n",
       "      <td>-1.111864</td>\n",
       "      <td>-0.507562</td>\n",
       "      <td>1.768209</td>\n",
       "      <td>1.214563</td>\n",
       "      <td>-1.214563</td>\n",
       "      <td>-0.530194</td>\n",
       "      <td>1.902938</td>\n",
       "      <td>-0.714751</td>\n",
       "      <td>-0.540439</td>\n",
       "    </tr>\n",
       "  </tbody>\n",
       "</table>\n",
       "</div>"
      ],
      "text/plain": [
       "   ClientPeriod  ...  PaymentMethod_Mailed check\n",
       "0      0.920781  ...                    1.850347\n",
       "1      1.613364  ...                   -0.540439\n",
       "2     -1.279189  ...                   -0.540439\n",
       "3     -0.016244  ...                    1.850347\n",
       "4      1.124482  ...                   -0.540439\n",
       "\n",
       "[5 rows x 45 columns]"
      ]
     },
     "execution_count": 22,
     "metadata": {},
     "output_type": "execute_result"
    }
   ],
   "source": [
    "# здесь попробовала закодировать категориальные признаки с помощью one-hot encoding; а потом отнормировать весь датасет, а не только числовые признаки\n",
    "# YOUR CODE\n",
    "data_cat_dummies = pd.get_dummies(data[cat_cols])\n",
    "scaler = StandardScaler()\n",
    "data_cat_enc = pd.concat([data[num_cols], data_cat_dummies], axis=1)\n",
    "X_norm_all = pd.DataFrame(scaler.fit_transform(data_cat_enc), index = data_cat_enc.index, columns = data_cat_enc.columns)\n",
    "y = data.Churn\n",
    "X_norm_all.head()"
   ]
  },
  {
   "cell_type": "code",
   "execution_count": 23,
   "metadata": {
    "colab": {
     "base_uri": "https://localhost:8080/"
    },
    "id": "IEIJAbbppyNE",
    "outputId": "9b97033f-4a83-4a57-de1b-d4f66a302794"
   },
   "outputs": [
    {
     "name": "stdout",
     "output_type": "stream",
     "text": [
      "The best score for Logistic Regression by GridSearchCV is  0.8478513178434642\n",
      "The best parameters {'penalty': 'l2'}\n"
     ]
    }
   ],
   "source": [
    "# тоже самое только если весь датасет будет отнормирован\n",
    "X_train_2, X_test_2, y_train_2, y_test_2 = train_test_split(X_norm_all, y, train_size = 0.7, random_state = 42)\n",
    "\n",
    "param_grid = {\n",
    "    # \"C\" : [100, 10, 1, 0.1, 0.01, 0.001], \n",
    "    \"penalty\" : [\"l1\", \"l2\"]}\n",
    "LR = LogisticRegressionCV();\n",
    "classifier_2 = GridSearchCV(LR, param_grid, cv=5, scoring='roc_auc', refit=True);\n",
    "classifier_2.fit(X_train_2, y_train_2);\n",
    "print('The best score for Logistic Regression by GridSearchCV is ', classifier_2.best_score_)\n",
    "print('The best parameters', classifier_2.best_params_)"
   ]
  },
  {
   "cell_type": "code",
   "execution_count": 48,
   "metadata": {
    "colab": {
     "base_uri": "https://localhost:8080/"
    },
    "id": "FMR3MtMTtUzX",
    "outputId": "616ba1c3-d30a-4da9-cb36-ef27f6d6b760"
   },
   "outputs": [
    {
     "name": "stdout",
     "output_type": "stream",
     "text": [
      "The best score for Logistic Regression by GridSearchCV is  0.8497030043077164\n",
      "The best parameters {'logisticregression__C': 100}\n"
     ]
    }
   ],
   "source": [
    "# более сложный вариант\n",
    "pipeline = make_pipeline(StandardScaler(), LogisticRegression())\n",
    "param_grid = {\n",
    "    \"logisticregression__C\" : [100, 10, 1, 0.1, 0.01, 0.001], \n",
    "    # \"penalty\" : [\"l1\", \"l2\"]\n",
    "    }\n",
    "\n",
    "classifier_3 = GridSearchCV(pipeline, param_grid, cv=5, scoring='roc_auc', n_jobs=-1, verbose =0)\n",
    "classifier_3.fit(X_train_2, y_train_2);\n",
    "print('The best score for Logistic Regression by GridSearchCV is ', classifier_3.best_score_)\n",
    "print('The best parameters', classifier_3.best_params_)\n"
   ]
  },
  {
   "cell_type": "markdown",
   "metadata": {
    "id": "uVahy6JKEEZQ"
   },
   "source": [
    "*Выпишите какое лучшее качество и с какими параметрами вам удалось получить*"
   ]
  },
  {
   "cell_type": "code",
   "execution_count": 25,
   "metadata": {
    "colab": {
     "base_uri": "https://localhost:8080/"
    },
    "id": "vr9EeEfwW_Ly",
    "outputId": "8c6b4c4e-5688-4eaf-e300-1945707ea380"
   },
   "outputs": [
    {
     "name": "stdout",
     "output_type": "stream",
     "text": [
      "The best score for Logistic Regression by GridSearchCV is  0.8497030043077164\n",
      "The best parameters {'logisticregression__C': 100}\n"
     ]
    }
   ],
   "source": [
    "print('The best score for Logistic Regression by GridSearchCV is ', classifier_3.best_score_)\n",
    "print('The best parameters', classifier_3.best_params_)"
   ]
  },
  {
   "cell_type": "markdown",
   "metadata": {
    "id": "BlTeVy7fEEZR"
   },
   "source": [
    "## Применение градиентного бустинга (2 балла)\n",
    "\n",
    "Если вы хотите получить баллы за точный ответ, то стоит попробовать градиентный бустинг. Часто градиентный бустинг с дефолтными параметрами даст вам 80% результата за 0% усилий.\n",
    "\n",
    "Мы будем использовать catboost, поэтому нам не надо кодировать категориальные признаки. catboost сделает это сам (в .fit() надо передать cat_features=cat_cols). А численные признаки нормировать для моделей, основанных на деревьях не нужно.\n",
    "\n",
    "1) Разделите выборку на train/valid. Протестируйте catboost cо стандартными параметрами.\n",
    "\n",
    "2) Протестируйте разные занчения параметроа количества деревьев и learning_rate'а и выберите лучшую по метрике ROC-AUC комбинацию. \n",
    "\n",
    "(Дополнительно) Есть некоторые сложности с тем, чтобы использовать CatBoostClassifier вместе с GridSearchCV, поэтому мы не просим использовать кроссвалидацию. Но можете попробовать)"
   ]
  },
  {
   "cell_type": "code",
   "execution_count": 26,
   "metadata": {
    "colab": {
     "base_uri": "https://localhost:8080/"
    },
    "id": "Fioxxlp-EEZS",
    "outputId": "c69869a8-a144-42f8-9d1f-c8e955606497"
   },
   "outputs": [
    {
     "name": "stdout",
     "output_type": "stream",
     "text": [
      "Collecting catboost\n",
      "  Downloading catboost-1.0.0-cp37-none-manylinux1_x86_64.whl (76.4 MB)\n",
      "\u001b[K     |████████████████████████████████| 76.4 MB 25 kB/s \n",
      "\u001b[?25hRequirement already satisfied: numpy>=1.16.0 in /usr/local/lib/python3.7/dist-packages (from catboost) (1.19.5)\n",
      "Requirement already satisfied: scipy in /usr/local/lib/python3.7/dist-packages (from catboost) (1.4.1)\n",
      "Requirement already satisfied: pandas>=0.24.0 in /usr/local/lib/python3.7/dist-packages (from catboost) (1.1.5)\n",
      "Requirement already satisfied: matplotlib in /usr/local/lib/python3.7/dist-packages (from catboost) (3.2.2)\n",
      "Requirement already satisfied: graphviz in /usr/local/lib/python3.7/dist-packages (from catboost) (0.10.1)\n",
      "Requirement already satisfied: plotly in /usr/local/lib/python3.7/dist-packages (from catboost) (4.4.1)\n",
      "Requirement already satisfied: six in /usr/local/lib/python3.7/dist-packages (from catboost) (1.15.0)\n",
      "Requirement already satisfied: python-dateutil>=2.7.3 in /usr/local/lib/python3.7/dist-packages (from pandas>=0.24.0->catboost) (2.8.2)\n",
      "Requirement already satisfied: pytz>=2017.2 in /usr/local/lib/python3.7/dist-packages (from pandas>=0.24.0->catboost) (2018.9)\n",
      "Requirement already satisfied: pyparsing!=2.0.4,!=2.1.2,!=2.1.6,>=2.0.1 in /usr/local/lib/python3.7/dist-packages (from matplotlib->catboost) (2.4.7)\n",
      "Requirement already satisfied: cycler>=0.10 in /usr/local/lib/python3.7/dist-packages (from matplotlib->catboost) (0.10.0)\n",
      "Requirement already satisfied: kiwisolver>=1.0.1 in /usr/local/lib/python3.7/dist-packages (from matplotlib->catboost) (1.3.2)\n",
      "Requirement already satisfied: retrying>=1.3.3 in /usr/local/lib/python3.7/dist-packages (from plotly->catboost) (1.3.3)\n",
      "Installing collected packages: catboost\n",
      "Successfully installed catboost-1.0.0\n"
     ]
    }
   ],
   "source": [
    "# YOUR CODE\n",
    "!pip install catboost\n",
    "\n",
    "import catboost\n",
    "from catboost import CatBoostClassifier"
   ]
  },
  {
   "cell_type": "code",
   "execution_count": 27,
   "metadata": {
    "id": "MhroxzdDwZbm"
   },
   "outputs": [],
   "source": [
    "data_cat = data.copy()\n",
    "y_cat = data_cat['Churn']\n",
    "data_cat = data_cat.drop(['Churn'], axis=1)\n",
    "X_cat = data_cat\n",
    "X_train_, X_valid, y_train_, y_valid = train_test_split(X_cat, y_cat, test_size=0.7, random_state=42)"
   ]
  },
  {
   "cell_type": "code",
   "execution_count": 33,
   "metadata": {
    "colab": {
     "base_uri": "https://localhost:8080/"
    },
    "id": "CbwGzjceFJoT",
    "outputId": "59f537ae-7603-45c1-ee60-ff1ad61f559c"
   },
   "outputs": [
    {
     "data": {
      "text/plain": [
       "(5282, 20)"
      ]
     },
     "execution_count": 33,
     "metadata": {},
     "output_type": "execute_result"
    }
   ],
   "source": [
    "data.shape"
   ]
  },
  {
   "cell_type": "code",
   "execution_count": 34,
   "metadata": {
    "colab": {
     "base_uri": "https://localhost:8080/"
    },
    "id": "-5LWiY-WwZmO",
    "outputId": "d8196bfd-3971-4941-afa1-45d514e7397a"
   },
   "outputs": [
    {
     "name": "stdout",
     "output_type": "stream",
     "text": [
      "The best score for Catboost classifier  0.7152349239786674\n"
     ]
    }
   ],
   "source": [
    "cat_model_1 = CatBoostClassifier(iterations=100, learning_rate = 0.7)\n",
    "cat_model_1.fit(X_train_, y_train_, cat_features=cat_cols, verbose=False);\n",
    "y_cat_pred = cat_model_1.predict(X_valid)\n",
    "\n",
    "\n",
    "print('The best score for Catboost classifier ', roc_auc_score(y_valid, y_cat_pred))\n",
    "# print('The best parameters', classifier_3.best_params_))"
   ]
  },
  {
   "cell_type": "markdown",
   "metadata": {
    "id": "rf4Kjt96EEZU"
   },
   "source": [
    "Выпишите какое лучшее качество и с какими параметрами вам удалось получить"
   ]
  },
  {
   "cell_type": "markdown",
   "metadata": {
    "id": "d2d9GolXEEZV"
   },
   "source": []
  },
  {
   "cell_type": "markdown",
   "metadata": {
    "id": "dDMXbvNZEEZV"
   },
   "source": [
    "# Предсказания"
   ]
  },
  {
   "cell_type": "code",
   "execution_count": 35,
   "metadata": {
    "id": "G_P4wFNaEEZW"
   },
   "outputs": [],
   "source": [
    "best_model = classifier_3"
   ]
  },
  {
   "cell_type": "code",
   "execution_count": 55,
   "metadata": {
    "id": "FfSufx0CEEZZ"
   },
   "outputs": [],
   "source": [
    "X_test = pd.read_csv('/content/drive/MyDrive/Deep_learning_school/Part8 - HW/14. Домашнее задание. Решение ML-задачи и kaggle/test.csv')\n",
    "submission = pd.read_csv('/content/drive/MyDrive/Deep_learning_school/Part8 - HW/14. Домашнее задание. Решение ML-задачи и kaggle/submission.csv')\n",
    "\n",
    "submission['Churn'] = pd.DataFrame(best_model.predict(X_test_2))\n",
    "submission.to_csv('./my_submission.csv')"
   ]
  },
  {
   "cell_type": "markdown",
   "metadata": {
    "id": "mkxjbGkVEEZc"
   },
   "source": [
    "# Kaggle (5 баллов)\n",
    "\n",
    "Как выставить баллы:\n",
    "\n",
    "1) 1 >= roc auc > 0.84 это 5 баллов\n",
    "\n",
    "2) 0.84 >= roc auc > 0.7 это 3 балла\n",
    "\n",
    "3) 0.7 >= roc auc > 0.6 это 1 балл\n",
    "\n",
    "4) 0.6 >= roc auc это 0 баллов\n",
    "\n",
    "\n",
    "Для выполнения задания необходимо выполнить следующие шаги.\n",
    "* Зарегистрироваться на платформе [kaggle.com](kaggle.com). Процесс выставления оценок будет проходить при подведении итогового рейтинга. Пожалуйста, укажите во вкладке Team -> Team name свои имя и фамилию в формате Имя_Фамилия (важно, чтобы имя и фамилия совпадали с данными на Stepik).\n",
    "* Обучить модель, получить файл с ответами в формате .csv и сдать его в конкурс. Пробуйте и экспериментируйте. Обратите внимание, что вы можете выполнять до 20 попыток сдачи на kaggle в день.\n",
    "* После окончания соревнования отправить в итоговый ноутбук с решением на степик. \n",
    "* После дедлайна проверьте посылки других участников по критериям. Для этого надо зайти на степик, скачать их ноутбук и проверить скор в соревновании."
   ]
  }
 ],
 "metadata": {
  "colab": {
   "collapsed_sections": [],
   "name": "Homework_sharifullina.ipynb",
   "provenance": []
  },
  "kernelspec": {
   "display_name": "Python 3",
   "language": "python",
   "name": "python3"
  },
  "language_info": {
   "codemirror_mode": {
    "name": "ipython",
    "version": 3
   },
   "file_extension": ".py",
   "mimetype": "text/x-python",
   "name": "python",
   "nbconvert_exporter": "python",
   "pygments_lexer": "ipython3",
   "version": "3.8.0"
  }
 },
 "nbformat": 4,
 "nbformat_minor": 4
}
